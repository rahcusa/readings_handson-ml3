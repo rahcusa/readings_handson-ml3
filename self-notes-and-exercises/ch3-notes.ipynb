{
 "cells": [
  {
   "cell_type": "markdown",
   "id": "6f20d33b",
   "metadata": {},
   "source": [
    "Most common supervised learning tasks are regression (predicting values) and classification (predicting classes).\n",
    "In Ch2, we explored a regression task, predicting housing values, using various algorithms such as linear regression, decision trees and random forests.\n",
    "\n",
    "Now we will turn our attention to classification systems."
   ]
  },
  {
   "cell_type": "markdown",
   "id": "5875b5a5",
   "metadata": {},
   "source": [
    "**MNIST**\n",
    "MNIST dataset is a set of 70000 small images of digits handwritten by highschool students and employees of the US census bureau."
   ]
  },
  {
   "cell_type": "code",
   "execution_count": 2,
   "id": "91b523eb",
   "metadata": {},
   "outputs": [],
   "source": [
    "from sklearn.datasets import fetch_openml\n",
    "\n",
    "# by default returns inputs as a Pandas DF and labels as\n",
    "# a Pandas series (unless the dataset is sparse)\n",
    "# but the MNIST dataset contains images, and DFs arent ideal for that\n",
    "# so we set 'as_frame=False' to get the data as NumPy arrays instead\n",
    "mnist = fetch_openml('mnist_784', as_frame=False)"
   ]
  },
  {
   "cell_type": "markdown",
   "id": "3810f49e",
   "metadata": {},
   "source": [
    "The sklearn.datasets package contains mostly three types of functions:-\n",
    "- fetch_functions such as fetch_openml() to download real-life datasets\n",
    "- load_* functions to load small toy datasets bundled with Scikit-Learn (so they don’t need to be downloaded over the internet)\n",
    "- make_* functions to generate fake datasets, useful for tests"
   ]
  },
  {
   "cell_type": "code",
   "execution_count": 3,
   "id": "d8f66f70",
   "metadata": {},
   "outputs": [
    {
     "name": "stdout",
     "output_type": "stream",
     "text": [
      "[[0. 0. 0. ... 0. 0. 0.]\n",
      " [0. 0. 0. ... 0. 0. 0.]\n",
      " [0. 0. 0. ... 0. 0. 0.]\n",
      " ...\n",
      " [0. 0. 0. ... 0. 0. 0.]\n",
      " [0. 0. 0. ... 0. 0. 0.]\n",
      " [0. 0. 0. ... 0. 0. 0.]]\n"
     ]
    }
   ],
   "source": [
    "# Generated datasets are usually returned as an (X, y) tuple of \n",
    "# 'data' - the input data, 2D NumPy array\n",
    "# 'target' - the labels, usually as a 1D NumPy array\n",
    "# we can deconstruct it as\n",
    "X, y = mnist.data, mnist.target\n",
    "print(X)"
   ]
  },
  {
   "cell_type": "code",
   "execution_count": 4,
   "id": "574d69fa",
   "metadata": {},
   "outputs": [
    {
     "name": "stdout",
     "output_type": "stream",
     "text": [
      "(70000, 784)\n",
      "['5' '0' '4' ... '4' '5' '6']\n"
     ]
    }
   ],
   "source": [
    "print(X.shape) # (70000, 784)\n",
    "print(y)"
   ]
  },
  {
   "cell_type": "code",
   "execution_count": 5,
   "id": "abb1d4b6",
   "metadata": {},
   "outputs": [
    {
     "name": "stdout",
     "output_type": "stream",
     "text": [
      "(70000,)\n"
     ]
    }
   ],
   "source": [
    "print(y.shape)"
   ]
  },
  {
   "cell_type": "markdown",
   "id": "da85487c",
   "metadata": {},
   "source": [
    "There are 70000 images and each image has 784 features. This is because each image is 28 x 28 pixels (each pixel is a feature, and each has an intensity from 0 (white) to 255 (black))."
   ]
  },
  {
   "cell_type": "code",
   "execution_count": 6,
   "id": "f61fd9aa",
   "metadata": {},
   "outputs": [
    {
     "data": {
      "image/png": "[encoded data removed]",
      "text/plain": [
       "<Figure size 640x480 with 1 Axes>"
      ]
     },
     "metadata": {},
     "output_type": "display_data"
    }
   ],
   "source": [
    "# lets take a peek at one digit from the dataset\n",
    "# All we need to do is grab an instance's feature vector\n",
    "# reshape it to a 28 x 28 array, and display it using imshow()\n",
    "# We use cmap=\"binary\" to get a grayscale color map where 0 is white\n",
    "# and 255 is black\n",
    "import matplotlib.pyplot as plt\n",
    "\n",
    "def plot_digit(image_data):\n",
    "    image = image_data.reshape(28, 28)\n",
    "    plt.imshow(image, cmap=\"binary\")\n",
    "    plt.axis(\"off\")\n",
    "\n",
    "some_digit = X[0]\n",
    "plot_digit(some_digit)\n",
    "plt.show()"
   ]
  },
  {
   "cell_type": "code",
   "execution_count": 7,
   "id": "e3ee66ca",
   "metadata": {},
   "outputs": [
    {
     "data": {
      "text/plain": [
       "'5'"
      ]
     },
     "execution_count": 7,
     "metadata": {},
     "output_type": "execute_result"
    }
   ],
   "source": [
    "# looks like a 5, and this is indeed what the label tells us\n",
    "y[0]"
   ]
  },
  {
   "cell_type": "code",
   "execution_count": 8,
   "id": "b47dc31a",
   "metadata": {},
   "outputs": [],
   "source": [
    "# MNIST dataset is already split into a training set\n",
    "# the first 60000 images are training\n",
    "# the last 10000 images are test"
   ]
  },
  {
   "cell_type": "code",
   "execution_count": 9,
   "id": "9200f9e7",
   "metadata": {},
   "outputs": [],
   "source": [
    "X_train, y_train, X_test, y_test = X[:60000], y[:60000], X[:10000], y[:10000]\n",
    "\n",
    "# the training set is already shuffled for us which is important"
   ]
  },
  {
   "cell_type": "markdown",
   "id": "5adab184",
   "metadata": {},
   "source": [
    "**Training a Binary Classifier**\n",
    "Lets simplify the problem for now and only try to identify one digit.\n",
    "The 5_detector will be an example of a binary classifier,\n",
    "capable of distinguishing between 2 classes\n",
    "5 and non-5"
   ]
  },
  {
   "cell_type": "code",
   "execution_count": 10,
   "id": "1a82afbb",
   "metadata": {},
   "outputs": [],
   "source": [
    "# first we'll create the target vectors for this classification task\n",
    "y_train_5 = (y_train == '5')\n",
    "y_test_5 = (y_test == '5')"
   ]
  },
  {
   "cell_type": "code",
   "execution_count": 11,
   "id": "7bfda2c3",
   "metadata": {},
   "outputs": [
    {
     "data": {
      "text/plain": [
       "array([ True])"
      ]
     },
     "execution_count": 11,
     "metadata": {},
     "output_type": "execute_result"
    }
   ],
   "source": [
    "# lets start with SGD classifier (stochastic gradient descent)\n",
    "# its capable of handling large datasets efficiently\n",
    "# This is in part because SGD deals with training instances separately\n",
    "# This is also what makes SGD well-suited for online learning\n",
    "from sklearn.linear_model import SGDClassifier\n",
    "\n",
    "sgd_clf = SGDClassifier(random_state=42)\n",
    "sgd_clf.fit(X_train, y_train_5)\n",
    "\n",
    "# lets test it\n",
    "sgd_clf.predict([some_digit])"
   ]
  },
  {
   "cell_type": "markdown",
   "id": "2a505dad",
   "metadata": {},
   "source": [
    "**Performance Measures**\n",
    "Evaluating a classifier is often trickier than evaluating a regressor."
   ]
  },
  {
   "cell_type": "markdown",
   "id": "f8fc088a",
   "metadata": {},
   "source": [
    "**Measuring accuracy using Cross-validation**\n",
    "A good way to evaluate a model is to use cross-validation (just as we did in Chapter 2).\n",
    "Lets use the `cross_val_score()` function, using k-fold cross validation with three fields\n",
    "Remember that k-fold cross validation splits the training set into `k` folds (in this case 3) and then trains the model `k` times, holding out a different fold each time for evaluation"
   ]
  },
  {
   "cell_type": "code",
   "execution_count": 12,
   "id": "e94748a6",
   "metadata": {
    "scrolled": true
   },
   "outputs": [
    {
     "data": {
      "text/plain": [
       "array([0.95035, 0.96035, 0.9604 ])"
      ]
     },
     "execution_count": 12,
     "metadata": {},
     "output_type": "execute_result"
    }
   ],
   "source": [
    "from sklearn.model_selection import cross_val_score\n",
    "\n",
    "cross_val_score(sgd_clf, X_train, y_train_5, cv=3, scoring=\"accuracy\")"
   ]
  },
  {
   "cell_type": "markdown",
   "id": "278aadae",
   "metadata": {},
   "source": [
    "Wow above 95% accuracy (ratio of correct predictions) on all cross-validation folds? \n",
    "Well, before you get too excited, let’s look at a dummy\n",
    "classifier that just classifies every single image in the most frequent class, which in this case is the negative class (i.e., non 5):"
   ]
  },
  {
   "cell_type": "code",
   "execution_count": 13,
   "id": "d4ce2ff0",
   "metadata": {},
   "outputs": [
    {
     "name": "stdout",
     "output_type": "stream",
     "text": [
      "False\n"
     ]
    }
   ],
   "source": [
    "from sklearn.dummy import DummyClassifier\n",
    "\n",
    "dummy_clf = DummyClassifier()\n",
    "dummy_clf.fit(X_train, y_train_5)\n",
    "# prints False: no 5s detected\n",
    "print(any(dummy_clf.predict(X_train)))"
   ]
  },
  {
   "cell_type": "code",
   "execution_count": 14,
   "id": "693cdecf",
   "metadata": {},
   "outputs": [
    {
     "data": {
      "text/plain": [
       "array([0.90965, 0.90965, 0.90965])"
      ]
     },
     "execution_count": 14,
     "metadata": {},
     "output_type": "execute_result"
    }
   ],
   "source": [
    "# Can you guess this model’s accuracy? Let’s find out:\n",
    "cross_val_score(dummy_clf, X_train, y_train_5, cv=3, scoring=\"accuracy\")"
   ]
  },
  {
   "cell_type": "markdown",
   "id": "7b4d2637",
   "metadata": {},
   "source": [
    "That’s right, it has over 90% accuracy! This is simply because only about 10% of the images are 5s, so if you always guess that an image is not a 5, you will be right about 90% of the time. Beats Nostradamus."
   ]
  },
  {
   "cell_type": "markdown",
   "id": "868d616c",
   "metadata": {},
   "source": [
    "This demonstrates why accuracy is generally not the preferred performance measure for classifiers, especially when you are dealing with skewed datasets (i.e. when some classes are more frequent than others)"
   ]
  },
  {
   "cell_type": "markdown",
   "id": "caa5d92b",
   "metadata": {},
   "source": [
    "A much better way to evaluate the performance of a classifier is to look at the confusion matrix (CM)."
   ]
  },
  {
   "cell_type": "markdown",
   "id": "545e6110",
   "metadata": {},
   "source": [
    "**Confusion matrices**\n",
    "\n",
    "The general idea of a confusion matrix is to count the number of times instances of class A are classified as class B, for all A/B pairs. \n",
    "For example, to know the number of times the classifier confused images of 8s with 0s, you would look at row #8, column #0 of the confusion matrix"
   ]
  },
  {
   "cell_type": "markdown",
   "id": "369c5385",
   "metadata": {},
   "source": [
    "To compute the confusion matrix, you first need to have a set of predictions so that they can be compared to the actual targets. You could make predictions on the test set, but it’s best to keep that untouched for now (remember that you want to use the test set only at the very end of your project, once you have a classifier that you are ready to launch). \n",
    "\n",
    "Instead, you can use the cross_val_predict() function"
   ]
  },
  {
   "cell_type": "code",
   "execution_count": 15,
   "id": "97074636",
   "metadata": {},
   "outputs": [],
   "source": [
    "from sklearn.model_selection import cross_val_predict\n",
    "\n",
    "# Just like the cross_val_score() function, cross_val_predict()\n",
    "# performs k-fold cross-validation, but instead of returning the\n",
    "# evaluation scores,\n",
    "# it returns the predictions made on each test fold.\n",
    "# This means that you get a clean prediction for each instance in\n",
    "# the training set \n",
    "# (by “clean” I mean “out-of-sample”: the model makes predictions on\n",
    "# data that it never saw during training).\n",
    "y_train_pred = cross_val_predict(sgd_clf, X_train, y_train_5, cv=3)"
   ]
  },
  {
   "cell_type": "code",
   "execution_count": 16,
   "id": "9b50697f",
   "metadata": {},
   "outputs": [
    {
     "data": {
      "text/plain": [
       "array([[53892,   687],\n",
       "       [ 1891,  3530]], dtype=int64)"
      ]
     },
     "execution_count": 16,
     "metadata": {},
     "output_type": "execute_result"
    }
   ],
   "source": [
    "from sklearn.metrics import confusion_matrix\n",
    "\n",
    "# Each row in a confusion matrix represents an actual class,\n",
    "# while each column represents a predicted class\n",
    "cm = confusion_matrix(y_train_5, y_train_pred)\n",
    "\n",
    "cm"
   ]
  },
  {
   "cell_type": "markdown",
   "id": "5f49ea0f",
   "metadata": {},
   "source": [
    "The first row of this matrix considers non-5 images (the\n",
    "negative class): 53,892 of them were correctly classified as non-5s (they are called true\n",
    "negatives), while the remaining 687 were wrongly classified as 5s (false positives, also called type I errors). \n",
    "\n",
    "The second row considers the images of 5s (the positive class):\n",
    "1,891 were wrongly classified as non-5s (false negatives, also called type II errors),\n",
    "while the remaining 3,530 were correctly classified as 5s (true positives)."
   ]
  },
  {
   "cell_type": "code",
   "execution_count": 17,
   "id": "1e1e6fb1",
   "metadata": {},
   "outputs": [
    {
     "data": {
      "text/plain": [
       "array([[54579,     0],\n",
       "       [    0,  5421]], dtype=int64)"
      ]
     },
     "execution_count": 17,
     "metadata": {},
     "output_type": "execute_result"
    }
   ],
   "source": [
    "# A perfect classifier would only have true positives and true negatives, \n",
    "# so its confusion matrix would have nonzero values\n",
    "# only on its main diagonal (top left to bottom right)\n",
    "y_train_perfect_predictions = y_train_5 # pretend we reached perfection\n",
    "confusion_matrix(y_train_5, y_train_perfect_predictions)"
   ]
  },
  {
   "cell_type": "markdown",
   "id": "b7241bb2",
   "metadata": {},
   "source": [
    "The confusion matrix gives you a lot of information, but sometimes you may prefer a more concise metric.\n",
    "An interesting one to look at is the accuracy of the positive\n",
    "predictions; this is called the `precision` of the classifier\n",
    "\n",
    "precision = TP / (TP + FP)\n",
    "\n",
    "`TP` is the number of true positives\n",
    "`FP` is the number of false positives"
   ]
  },
  {
   "cell_type": "markdown",
   "id": "07337a06",
   "metadata": {},
   "source": [
    "A trivial way to have perfect precision is to create a classifier that always makes negative predictions, except for one single positive prediction on the instance it's most confident about.\n",
    "\n",
    "If this one prediction is correct, then the classifier has 100% precision (precision = 1/1 = 100%).\n",
    "\n",
    "Obviously, such a classifier would not be very useful, since it would ignore all but one positive instance. So, precision is typically used along with another metric named recall, also called sensitivity or the true positive rate (TPR):\n",
    "\n",
    "recall = TP / (TP + FN)\n",
    "\n",
    "`FN` is the number of false negatives\n"
   ]
  },
  {
   "cell_type": "code",
   "execution_count": 18,
   "id": "e532e171",
   "metadata": {},
   "outputs": [
    {
     "data": {
      "text/plain": [
       "0.8370879772350012"
      ]
     },
     "execution_count": 18,
     "metadata": {},
     "output_type": "execute_result"
    }
   ],
   "source": [
    "# Precision and Recall\n",
    "\n",
    "from sklearn.metrics import precision_score, recall_score\n",
    "\n",
    "precision_score(y_train_5, y_train_pred)"
   ]
  },
  {
   "cell_type": "code",
   "execution_count": 19,
   "id": "644817b7",
   "metadata": {},
   "outputs": [
    {
     "data": {
      "text/plain": [
       "0.6511713705958311"
      ]
     },
     "execution_count": 19,
     "metadata": {},
     "output_type": "execute_result"
    }
   ],
   "source": [
    "recall_score(y_train_5, y_train_pred)"
   ]
  },
  {
   "cell_type": "markdown",
   "id": "b8db7bef",
   "metadata": {},
   "source": [
    "Now our 5-detector does not look as accurate. When it claims an image represents a 5, it is only correct 83.7% of the time. Also it only detects 65.1% of the 5s."
   ]
  },
  {
   "cell_type": "markdown",
   "id": "c303224d",
   "metadata": {},
   "source": [
    "It is often convenient to combine precision and recall into a single metric called the F1 score. The F1 scire is the `harmonic mean` of precision and recall. Whereas the regular mean treats all values equally, the harmonic mean gives much more weight to low values. As a result, the classifier will only get a high F1 score if both recall and precision are high.\n",
    "\n",
    "\n",
    "F1 = 2 * ((precision * recall) / (precision + recall))"
   ]
  },
  {
   "cell_type": "code",
   "execution_count": 20,
   "id": "431fafcb",
   "metadata": {},
   "outputs": [
    {
     "data": {
      "text/plain": [
       "0.7325171197343846"
      ]
     },
     "execution_count": 20,
     "metadata": {},
     "output_type": "execute_result"
    }
   ],
   "source": [
    "from sklearn.metrics import f1_score\n",
    "\n",
    "f1_score(y_train_5, y_train_pred)"
   ]
  },
  {
   "cell_type": "markdown",
   "id": "f2792f97",
   "metadata": {},
   "source": [
    "The F1 score favors classifiers that have similar precision and recall. This is not always what you want: in some contexts you mostly care about precision, and in other contexts you really care about recall.\n",
    "\n",
    "For e.g. if you trained a classifier to detect videos that are safe for kids, youre ok with a classifier that rejects many good videos (low recall) and keeps only safe ones (high precision). A high recall would allow really bad videos to show up in the product (in such cases we may even want a human pipeline to check the classifiers video selection).\n",
    "\n",
    "On the other hand, suppose you train a classifier to detect shoplifters in surveillance images: it is probably fine if your classifier only has 30% precision as long as it has 99% recall (sure, the security guards will get a few false alerts, but almost all shoplifters will get caught)."
   ]
  },
  {
   "cell_type": "markdown",
   "id": "7faa09f7",
   "metadata": {},
   "source": [
    "Unfortunately, you can’t have it both ways: increasing precision reduces recall, and vice versa. This is called the precision/recall trade-off.\n",
    "\n",
    "**The Precision/Recall Trade-off**\n",
    "See figure 3-4 for details"
   ]
  },
  {
   "cell_type": "code",
   "execution_count": 21,
   "id": "bdee9c33",
   "metadata": {},
   "outputs": [],
   "source": [
    "# Scikit-Learn does not let you set the threshold directly,\n",
    "# but it does give you access to\n",
    "# the decision scores that it uses to make predictions.\n",
    "# Instead of calling the classifier’s predict() method, you can call its\n",
    "# decision_function() method, which returns a\n",
    "# score for each instance, and then use any threshold you want to make\n",
    "# predictions based on those scores:\n",
    "\n",
    "y_scores = sgd_clf.decision_function([some_digit])\n",
    "threshold = 3000"
   ]
  },
  {
   "cell_type": "code",
   "execution_count": 22,
   "id": "77fb9b78",
   "metadata": {},
   "outputs": [],
   "source": [
    "# How do you decide which threshold to use? First, use the cross_val_predict()\n",
    "# function to get the scores of all instances in the training set, but this time specify that\n",
    "# you want to return decision scores instead of predictions:\n",
    "y_scores = cross_val_predict(sgd_clf, X_train, y_train_5, cv=3,\n",
    "                             method=\"decision_function\")"
   ]
  },
  {
   "cell_type": "code",
   "execution_count": 23,
   "id": "ce85991c",
   "metadata": {},
   "outputs": [],
   "source": [
    "# With these scores, use the precision_recall_curve() function to compute precision\n",
    "# and recall for all possible thresholds (the function adds a last precision of 0 and a last\n",
    "# recall of 1, corresponding to an infinite threshold):\n",
    "from sklearn.metrics import precision_recall_curve\n",
    "\n",
    "precisions, recalls, thresholds = precision_recall_curve(y_train_5, y_scores)"
   ]
  },
  {
   "cell_type": "code",
   "execution_count": 25,
   "id": "a8d07406",
   "metadata": {
    "scrolled": true
   },
   "outputs": [
    {
     "data": {
      "image/png": "[encoded data removed]",
      "text/plain": [
       "<Figure size 800x400 with 1 Axes>"
      ]
     },
     "metadata": {},
     "output_type": "display_data"
    }
   ],
   "source": [
    "plt.figure(figsize=(8, 4))  # extra code – it's not needed, just formatting\n",
    "plt.plot(thresholds, precisions[:-1], \"b--\", label=\"Precision\", linewidth=2)\n",
    "plt.plot(thresholds, recalls[:-1], \"g-\", label=\"Recall\", linewidth=2)\n",
    "plt.vlines(threshold, 0, 1.0, \"k\", \"dotted\", label=\"threshold\")\n",
    "\n",
    "# extra code – this section just beautifies and saves Figure 3–5\n",
    "idx = (thresholds >= threshold).argmax()  # first index ≥ threshold\n",
    "plt.plot(thresholds[idx], precisions[idx], \"bo\")\n",
    "plt.plot(thresholds[idx], recalls[idx], \"go\")\n",
    "plt.axis([-50000, 50000, 0, 1])\n",
    "plt.grid()\n",
    "plt.xlabel(\"Threshold\")\n",
    "plt.legend(loc=\"center right\")\n",
    "# save_fig(\"precision_recall_vs_threshold_plot\")\n",
    "\n",
    "plt.show()"
   ]
  },
  {
   "cell_type": "code",
   "execution_count": 26,
   "id": "5e62162a",
   "metadata": {},
   "outputs": [
    {
     "data": {
      "image/png": "[encoded data removed]",
      "text/plain": [
       "<Figure size 600x500 with 1 Axes>"
      ]
     },
     "metadata": {},
     "output_type": "display_data"
    }
   ],
   "source": [
    "# Another way to select a good precision/recall trade-off is to plot precision\n",
    "# directly against recall\n",
    "\n",
    "# plt.plot(recalls, precisions, linewidth=2, label=\"Precision/Recall curve\")\n",
    "# plt.show() # Y is precision, X is recall\n",
    "import matplotlib.patches as patches  # extra code – for the curved arrow\n",
    "\n",
    "plt.figure(figsize=(6, 5))  # extra code – not needed, just formatting\n",
    "\n",
    "plt.plot(recalls, precisions, linewidth=2, label=\"Precision/Recall curve\")\n",
    "\n",
    "# extra code – just beautifies and saves Figure 3–6\n",
    "plt.plot([recalls[idx], recalls[idx]], [0., precisions[idx]], \"k:\")\n",
    "plt.plot([0.0, recalls[idx]], [precisions[idx], precisions[idx]], \"k:\")\n",
    "plt.plot([recalls[idx]], [precisions[idx]], \"ko\",\n",
    "         label=\"Point at threshold 3,000\")\n",
    "plt.gca().add_patch(patches.FancyArrowPatch(\n",
    "    (0.79, 0.60), (0.61, 0.78),\n",
    "    connectionstyle=\"arc3,rad=.2\",\n",
    "    arrowstyle=\"Simple, tail_width=1.5, head_width=8, head_length=10\",\n",
    "    color=\"#444444\"))\n",
    "plt.text(0.56, 0.62, \"Higher\\nthreshold\", color=\"#333333\")\n",
    "plt.xlabel(\"Recall\")\n",
    "plt.ylabel(\"Precision\")\n",
    "plt.axis([0, 1, 0, 1])\n",
    "plt.grid()\n",
    "plt.legend(loc=\"lower left\")\n",
    "\n",
    "plt.show()\n",
    "# you can see thatprecision starts to drop off around 80% recall\n",
    "# so you probably want to select a precision/recall tradeoff just before that drop\n",
    "# for example at around 60% recall, but the choice depends on your project"
   ]
  },
  {
   "cell_type": "markdown",
   "id": "dbdb83e8",
   "metadata": {},
   "source": [
    "Suppose you decide to aim for 90% precision. You could use the first plot to find the threshold you need to use, but that’s not very precise. Alternatively, you can search for the lowest threshold that gives you at least 90% precision."
   ]
  },
  {
   "cell_type": "code",
   "execution_count": 28,
   "id": "4510cdbd",
   "metadata": {},
   "outputs": [
    {
     "data": {
      "text/plain": [
       "3370.019499143957"
      ]
     },
     "execution_count": 28,
     "metadata": {},
     "output_type": "execute_result"
    }
   ],
   "source": [
    "# For this, you can use the NumPy array’s argmax() method.\n",
    "# This returns the first index of the maximum value, which in this case\n",
    "# means the first True value\n",
    "idx_for_90_precision = (precisions >= 0.90).argmax()\n",
    "threshold_for_90_precision = thresholds[idx_for_90_precision]\n",
    "threshold_for_90_precision"
   ]
  },
  {
   "cell_type": "code",
   "execution_count": 29,
   "id": "79fb10ed",
   "metadata": {},
   "outputs": [
    {
     "data": {
      "text/plain": [
       "0.9000345901072293"
      ]
     },
     "execution_count": 29,
     "metadata": {},
     "output_type": "execute_result"
    }
   ],
   "source": [
    "y_train_pred_90 = (y_scores >= threshold_for_90_precision)\n",
    "precision_score(y_train_5, y_train_pred_90)"
   ]
  },
  {
   "cell_type": "code",
   "execution_count": 30,
   "id": "0ebc7ab3",
   "metadata": {},
   "outputs": [
    {
     "data": {
      "text/plain": [
       "0.4799852425751706"
      ]
     },
     "execution_count": 30,
     "metadata": {},
     "output_type": "execute_result"
    }
   ],
   "source": [
    "recall_at_90_precision = recall_score(y_train_5, y_train_pred_90)\n",
    "recall_at_90_precision"
   ]
  },
  {
   "cell_type": "markdown",
   "id": "92cb5f2d",
   "metadata": {},
   "source": [
    "TODO ROC curve...\n",
    "TODO When to use ROC vs Precision/Recall curve..."
   ]
  },
  {
   "cell_type": "markdown",
   "id": "37ab0354",
   "metadata": {},
   "source": [
    "**Multiclass Classification**\n",
    "\n",
    "Used to distinguish between > 2 classes. Some sk classifiers can handle multiple classes natively (LogisticRegression, RandomForestClassifier and GaussianNB). For binary classifiers we need to employ a strategy:-\n",
    "\n",
    "OVO - for N classes, need to train N x (N-1) / 2 classifiers (for MNIST, this means 45 classifiers)\n",
    "\n",
    "OVR - for N classes, need to train N classifiers and select the class whose classifier has the highest score"
   ]
  },
  {
   "cell_type": "code",
   "execution_count": 27,
   "id": "7eebc7ea",
   "metadata": {},
   "outputs": [
    {
     "data": {
      "text/html": [
       "<style>#sk-container-id-1 {color: black;background-color: white;}#sk-container-id-1 pre{padding: 0;}#sk-container-id-1 div.sk-toggleable {background-color: white;}#sk-container-id-1 label.sk-toggleable__label {cursor: pointer;display: block;width: 100%;margin-bottom: 0;padding: 0.3em;box-sizing: border-box;text-align: center;}#sk-container-id-1 label.sk-toggleable__label-arrow:before {content: \"▸\";float: left;margin-right: 0.25em;color: #696969;}#sk-container-id-1 label.sk-toggleable__label-arrow:hover:before {color: black;}#sk-container-id-1 div.sk-estimator:hover label.sk-toggleable__label-arrow:before {color: black;}#sk-container-id-1 div.sk-toggleable__content {max-height: 0;max-width: 0;overflow: hidden;text-align: left;background-color: #f0f8ff;}#sk-container-id-1 div.sk-toggleable__content pre {margin: 0.2em;color: black;border-radius: 0.25em;background-color: #f0f8ff;}#sk-container-id-1 input.sk-toggleable__control:checked~div.sk-toggleable__content {max-height: 200px;max-width: 100%;overflow: auto;}#sk-container-id-1 input.sk-toggleable__control:checked~label.sk-toggleable__label-arrow:before {content: \"▾\";}#sk-container-id-1 div.sk-estimator input.sk-toggleable__control:checked~label.sk-toggleable__label {background-color: #d4ebff;}#sk-container-id-1 div.sk-label input.sk-toggleable__control:checked~label.sk-toggleable__label {background-color: #d4ebff;}#sk-container-id-1 input.sk-hidden--visually {border: 0;clip: rect(1px 1px 1px 1px);clip: rect(1px, 1px, 1px, 1px);height: 1px;margin: -1px;overflow: hidden;padding: 0;position: absolute;width: 1px;}#sk-container-id-1 div.sk-estimator {font-family: monospace;background-color: #f0f8ff;border: 1px dotted black;border-radius: 0.25em;box-sizing: border-box;margin-bottom: 0.5em;}#sk-container-id-1 div.sk-estimator:hover {background-color: #d4ebff;}#sk-container-id-1 div.sk-parallel-item::after {content: \"\";width: 100%;border-bottom: 1px solid gray;flex-grow: 1;}#sk-container-id-1 div.sk-label:hover label.sk-toggleable__label {background-color: #d4ebff;}#sk-container-id-1 div.sk-serial::before {content: \"\";position: absolute;border-left: 1px solid gray;box-sizing: border-box;top: 0;bottom: 0;left: 50%;z-index: 0;}#sk-container-id-1 div.sk-serial {display: flex;flex-direction: column;align-items: center;background-color: white;padding-right: 0.2em;padding-left: 0.2em;position: relative;}#sk-container-id-1 div.sk-item {position: relative;z-index: 1;}#sk-container-id-1 div.sk-parallel {display: flex;align-items: stretch;justify-content: center;background-color: white;position: relative;}#sk-container-id-1 div.sk-item::before, #sk-container-id-1 div.sk-parallel-item::before {content: \"\";position: absolute;border-left: 1px solid gray;box-sizing: border-box;top: 0;bottom: 0;left: 50%;z-index: -1;}#sk-container-id-1 div.sk-parallel-item {display: flex;flex-direction: column;z-index: 1;position: relative;background-color: white;}#sk-container-id-1 div.sk-parallel-item:first-child::after {align-self: flex-end;width: 50%;}#sk-container-id-1 div.sk-parallel-item:last-child::after {align-self: flex-start;width: 50%;}#sk-container-id-1 div.sk-parallel-item:only-child::after {width: 0;}#sk-container-id-1 div.sk-dashed-wrapped {border: 1px dashed gray;margin: 0 0.4em 0.5em 0.4em;box-sizing: border-box;padding-bottom: 0.4em;background-color: white;}#sk-container-id-1 div.sk-label label {font-family: monospace;font-weight: bold;display: inline-block;line-height: 1.2em;}#sk-container-id-1 div.sk-label-container {text-align: center;}#sk-container-id-1 div.sk-container {/* jupyter's `normalize.less` sets `[hidden] { display: none; }` but bootstrap.min.css set `[hidden] { display: none !important; }` so we also need the `!important` here to be able to override the default hidden behavior on the sphinx rendered scikit-learn.org. See: https://github.com/scikit-learn/scikit-learn/issues/21755 */display: inline-block !important;position: relative;}#sk-container-id-1 div.sk-text-repr-fallback {display: none;}</style><div id=\"sk-container-id-1\" class=\"sk-top-container\"><div class=\"sk-text-repr-fallback\"><pre>SVC(random_state=42)</pre><b>In a Jupyter environment, please rerun this cell to show the HTML representation or trust the notebook. <br />On GitHub, the HTML representation is unable to render, please try loading this page with nbviewer.org.</b></div><div class=\"sk-container\" hidden><div class=\"sk-item\"><div class=\"sk-estimator sk-toggleable\"><input class=\"sk-toggleable__control sk-hidden--visually\" id=\"sk-estimator-id-1\" type=\"checkbox\" checked><label for=\"sk-estimator-id-1\" class=\"sk-toggleable__label sk-toggleable__label-arrow\">SVC</label><div class=\"sk-toggleable__content\"><pre>SVC(random_state=42)</pre></div></div></div></div></div>"
      ],
      "text/plain": [
       "SVC(random_state=42)"
      ]
     },
     "execution_count": 27,
     "metadata": {},
     "output_type": "execute_result"
    }
   ],
   "source": [
    "# Scikit-Learn detects when you try to use a binary classification algorithm for\n",
    "# a multiclass classification task, and it automatically runs OvR or OvO,\n",
    "# depending on the algorithm. Let’s try this with a support vector machine\n",
    "# classifier using the sklearn.svm.SVC class (see Chapter 5). We’ll only train\n",
    "# on the first 2,000 images, or else it will take a very long time:\n",
    "from sklearn.svm import SVC\n",
    "\n",
    "svm_clf = SVC(random_state=42)\n",
    "svm_clf.fit(X_train[:2000], y_train[:2000]) # y_train, not y_train_5"
   ]
  },
  {
   "cell_type": "markdown",
   "id": "70044e10",
   "metadata": {},
   "source": [
    "That was easy! We trained the SVC using the original target classes from 0 to 9 (y_train), instead of the 5-versus-the-rest target classes (y_train_5). Since there are 10 classes (i.e., more than 2), Scikit-Learn used the OvO strategy and trained 45 binary classifiers."
   ]
  },
  {
   "cell_type": "code",
   "execution_count": null,
   "id": "218e85ae",
   "metadata": {},
   "outputs": [],
   "source": [
    "# Now let’s make a prediction on an image\n",
    "svm_clf.predict([some_digit])"
   ]
  },
  {
   "cell_type": "markdown",
   "id": "0187f629",
   "metadata": {},
   "source": [
    "That’s correct! This code actually made 45 predictions—one per pair of classes—and it selected the class that won the most duels."
   ]
  },
  {
   "cell_type": "code",
   "execution_count": null,
   "id": "0766bc7f",
   "metadata": {},
   "outputs": [],
   "source": [
    "# If you call the decision_function() method, you will see that it returns \n",
    "# 10 scores per instance: one per class. Each class gets a score equal to the\n",
    "# number of won duels plus or minus a small tweak (max ±0.33) to break ties,\n",
    "# based on the classifier scores\n",
    "some_digit_scores = svm_clf.decision_function([some_digit])\n",
    "some_digit_scores.round(2)"
   ]
  },
  {
   "cell_type": "code",
   "execution_count": null,
   "id": "9bc9735a",
   "metadata": {},
   "outputs": [],
   "source": [
    "# The highest score is 9.3, and it’s indeed the one corresponding to class 5:\n",
    "class_id = some_digit_scores.argmax()\n",
    "class_id"
   ]
  },
  {
   "cell_type": "code",
   "execution_count": null,
   "id": "7ab3a829",
   "metadata": {},
   "outputs": [],
   "source": [
    "# When a classifier is trained, it stores the list of target classes in its\n",
    "# classes_ attribute, ordered by value\n",
    "# in the case of MNIST, the class id matches the lbel\n",
    "# however you generally need to look up the label like this\n",
    "svm_clf.classes_[class_id]"
   ]
  },
  {
   "cell_type": "code",
   "execution_count": null,
   "id": "0c929359",
   "metadata": {},
   "outputs": [],
   "source": [
    "# Training an SGDClassifier on a multiclass dataset and using it to make\n",
    "# predictions is just as easy:\n",
    "sgd_clf = SGDClassifier(random_state=42)\n",
    "sgd_clf.fit(X_train, y_train)\n",
    "sgd_clf.predict([some_digit])"
   ]
  },
  {
   "cell_type": "code",
   "execution_count": null,
   "id": "c8658f6e",
   "metadata": {},
   "outputs": [],
   "source": [
    "#Oops, that’s incorrect. Prediction errors do happen! This time Scikit-Learn\n",
    "# used the OvR strategy under the hood: since there are 10 classes,\n",
    "# it trained 10 binary classifiers. The decision_function() method now returns\n",
    "# one value per class. Let’s look at the scores that the SGD classifier\n",
    "# assigned to each class:\n",
    "sgd_clf.decision_function([some_digit]).round()"
   ]
  },
  {
   "cell_type": "markdown",
   "id": "ca941c4e",
   "metadata": {},
   "source": [
    "You can see that the classifier is not very confident about its prediction: almost all scores are very negative (class3 and 5 are closer to positive)\n",
    "As usual you can use the cross_val_score() to evaluate the model:"
   ]
  },
  {
   "cell_type": "code",
   "execution_count": null,
   "id": "70d432f5",
   "metadata": {},
   "outputs": [],
   "source": [
    "cross_val_score(sgd_clf, X_train, y_train, cv=3, scoring=\"accuracy\")"
   ]
  },
  {
   "cell_type": "markdown",
   "id": "fafe483a",
   "metadata": {},
   "source": [
    "It gets over 85.8% on all test folds. If you used a random classifier, you would get 10% accuracy, so this is not such a bad score, but you can still do much better. Simply scaling the inputs (as discussed in Chapter 2) increases accuracy above 89.1%:"
   ]
  },
  {
   "cell_type": "code",
   "execution_count": 32,
   "id": "373a55f2",
   "metadata": {},
   "outputs": [
    {
     "data": {
      "text/plain": [
       "array([0.8983, 0.891 , 0.9018])"
      ]
     },
     "execution_count": 32,
     "metadata": {},
     "output_type": "execute_result"
    }
   ],
   "source": [
    "from sklearn.preprocessing import StandardScaler\n",
    "\n",
    "scaler = StandardScaler()\n",
    "X_train_scaled = scaler.fit_transform(X_train.astype(\"float64\"))\n",
    "cross_val_score(sgd_clf, X_train_scaled, y_train, cv=3, scoring=\"accuracy\")"
   ]
  },
  {
   "cell_type": "markdown",
   "id": "5a341808",
   "metadata": {},
   "source": [
    "**Error Analysis**\n"
   ]
  },
  {
   "cell_type": "markdown",
   "id": "3ba56f5e",
   "metadata": {},
   "source": [
    "If this were a real project, you would now follow the steps in your machine learning project checklist (see Appendix A). \n",
    "You’d explore data preparation options, try out multiple models, shortlist the best ones, fine-tune their hyperparameters using GridSearchCV, and automate as much as possible."
   ]
  },
  {
   "cell_type": "markdown",
   "id": "694f2208",
   "metadata": {},
   "source": [
    "Here, we will assume that you have found a promising model and you want to find ways to improve it. One way to do this is to analyze the types of errors it makes."
   ]
  },
  {
   "cell_type": "code",
   "execution_count": 31,
   "id": "5a194e34",
   "metadata": {},
   "outputs": [
    {
     "ename": "NameError",
     "evalue": "name 'X_train_scaled' is not defined",
     "output_type": "error",
     "traceback": [
      "\u001b[1;31m---------------------------------------------------------------------------\u001b[0m",
      "\u001b[1;31mNameError\u001b[0m                                 Traceback (most recent call last)",
      "Cell \u001b[1;32mIn [31], line 10\u001b[0m\n\u001b[0;32m      1\u001b[0m \u001b[38;5;66;03m# First, look at the confusion matrix. For this, you first need to make predictions using\u001b[39;00m\n\u001b[0;32m      2\u001b[0m \u001b[38;5;66;03m# the cross_val_predict() function; then you can pass the labels and predictions to\u001b[39;00m\n\u001b[0;32m      3\u001b[0m \u001b[38;5;66;03m# the confusion_matrix() function, just like you did earlier. However, since there are\u001b[39;00m\n\u001b[1;32m   (...)\u001b[0m\n\u001b[0;32m      6\u001b[0m \u001b[38;5;66;03m# A colored diagram of the confusion matrix is much easier to analyze. To plot such a\u001b[39;00m\n\u001b[0;32m      7\u001b[0m \u001b[38;5;66;03m# diagram, use the ConfusionMatrixDisplay.from_predictions() function like this:\u001b[39;00m\n\u001b[0;32m      9\u001b[0m \u001b[38;5;28;01mfrom\u001b[39;00m \u001b[38;5;21;01msklearn\u001b[39;00m\u001b[38;5;21;01m.\u001b[39;00m\u001b[38;5;21;01mmetrics\u001b[39;00m \u001b[38;5;28;01mimport\u001b[39;00m ConfusionMatrixDisplay\n\u001b[1;32m---> 10\u001b[0m y_train_pred \u001b[38;5;241m=\u001b[39m cross_val_predict(sgd_clf, \u001b[43mX_train_scaled\u001b[49m, y_train, cv\u001b[38;5;241m=\u001b[39m\u001b[38;5;241m3\u001b[39m)\n\u001b[0;32m     11\u001b[0m ConfusionMatrixDisplay\u001b[38;5;241m.\u001b[39mfrom_predictions(y_train, y_train_pred)\n\u001b[0;32m     12\u001b[0m plt\u001b[38;5;241m.\u001b[39mshow()\n",
      "\u001b[1;31mNameError\u001b[0m: name 'X_train_scaled' is not defined"
     ]
    }
   ],
   "source": [
    "# First, look at the confusion matrix. For this, you first need to make predictions using\n",
    "# the cross_val_predict() function; then you can pass the labels and predictions to\n",
    "# the confusion_matrix() function, just like you did earlier. However, since there are\n",
    "# now 10 classes instead of 2, the confusion matrix will contain quite a lot of numbers,\n",
    "# and it may be hard to read.\n",
    "# A colored diagram of the confusion matrix is much easier to analyze. To plot such a\n",
    "# diagram, use the ConfusionMatrixDisplay.from_predictions() function like this:\n",
    "\n",
    "from sklearn.metrics import ConfusionMatrixDisplay\n",
    "y_train_pred = cross_val_predict(sgd_clf, X_train_scaled, y_train, cv=3)\n",
    "ConfusionMatrixDisplay.from_predictions(y_train, y_train_pred)\n",
    "plt.show()"
   ]
  }
 ],
 "metadata": {
  "kernelspec": {
   "display_name": "Python 3 (ipykernel)",
   "language": "python",
   "name": "python3"
  },
  "language_info": {
   "codemirror_mode": {
    "name": "ipython",
    "version": 3
   },
   "file_extension": ".py",
   "mimetype": "text/x-python",
   "name": "python",
   "nbconvert_exporter": "python",
   "pygments_lexer": "ipython3",
   "version": "3.10.11"
  }
 },
 "nbformat": 4,
 "nbformat_minor": 5
}
